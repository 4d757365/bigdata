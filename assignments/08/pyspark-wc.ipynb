{
 "cells": [
  {
   "cell_type": "code",
   "execution_count": 1,
   "id": "cb33a59b-53c4-48ee-b79e-a2c3eb3c8a89",
   "metadata": {},
   "outputs": [],
   "source": [
    "import findspark"
   ]
  },
  {
   "cell_type": "code",
   "execution_count": 2,
   "id": "da6ef018-f951-4aed-9d13-d2787a46d2df",
   "metadata": {},
   "outputs": [],
   "source": [
    "findspark.init()"
   ]
  },
  {
   "cell_type": "code",
   "execution_count": 3,
   "id": "f794f0b3-9fc0-41d2-97f9-767e7d90f981",
   "metadata": {},
   "outputs": [],
   "source": [
    "from pyspark import SparkContext, SparkConf"
   ]
  },
  {
   "cell_type": "code",
   "execution_count": 4,
   "id": "94d9af05-18b0-4315-9a1a-176f90d3119e",
   "metadata": {},
   "outputs": [],
   "source": [
    "conf = SparkConf().setAppName(\"Spark Count\") "
   ]
  },
  {
   "cell_type": "code",
   "execution_count": 5,
   "id": "7f523f60-2ec4-4dd2-8265-7a37558bc8d3",
   "metadata": {
    "scrolled": true
   },
   "outputs": [
    {
     "name": "stderr",
     "output_type": "stream",
     "text": [
      "24/04/25 10:57:24 WARN Utils: Your hostname, 4d757365s-MacBook-Pro.local resolves to a loopback address: 127.0.0.1; using 192.168.2.1 instead (on interface bridge0)\n",
      "24/04/25 10:57:24 WARN Utils: Set SPARK_LOCAL_IP if you need to bind to another address\n",
      "Setting default log level to \"WARN\".\n",
      "To adjust logging level use sc.setLogLevel(newLevel). For SparkR, use setLogLevel(newLevel).\n",
      "24/04/25 10:57:24 WARN NativeCodeLoader: Unable to load native-hadoop library for your platform... using builtin-java classes where applicable\n"
     ]
    }
   ],
   "source": [
    "sc = SparkContext(conf=conf)"
   ]
  },
  {
   "cell_type": "code",
   "execution_count": 6,
   "id": "9e01508d-30e1-4518-b566-f7f321888207",
   "metadata": {},
   "outputs": [],
   "source": [
    "text_file = sc.textFile(\"inputfolder\")"
   ]
  },
  {
   "cell_type": "code",
   "execution_count": 7,
   "id": "8150105d-aafd-4421-ac65-0803b0082db2",
   "metadata": {},
   "outputs": [],
   "source": [
    "counts = text_file.flatMap(lambda line: line.split(\" \")).map(lambda word: (word, 1)).reduceByKey(lambda a,b: a+b)"
   ]
  },
  {
   "cell_type": "code",
   "execution_count": 8,
   "id": "407b617c-bae1-4979-89c7-07009e2357da",
   "metadata": {},
   "outputs": [
    {
     "name": "stderr",
     "output_type": "stream",
     "text": [
      "                                                                                \r"
     ]
    },
    {
     "data": {
      "text/plain": [
       "[('by', 5),\n",
       " ('of', 13),\n",
       " ('light', 6),\n",
       " ('and', 11),\n",
       " ('clock', 6),\n",
       " ('shadows', 7),\n",
       " ('danced', 5),\n",
       " ('whistle', 7),\n",
       " ('lonely', 6),\n",
       " ('dog', 7),\n",
       " ('dim', 5),\n",
       " ('window', 7),\n",
       " ('distance', 7),\n",
       " ('old', 10),\n",
       " ('road', 6),\n",
       " ('air', 4),\n",
       " ('forgotten', 6),\n",
       " ('watching', 7),\n",
       " ('A', 13),\n",
       " ('rustled', 7),\n",
       " ('train', 7),\n",
       " ('empty', 6),\n",
       " ('her', 7),\n",
       " ('casting', 7),\n",
       " ('barked', 6),\n",
       " ('rain', 7),\n",
       " ('long', 7),\n",
       " ('glinting', 4),\n",
       " ('eyes', 6),\n",
       " ('flickered', 7),\n",
       " ('Leaves', 6),\n",
       " ('streets', 6),\n",
       " ('midnight', 5),\n",
       " ('cobblestones', 6),\n",
       " ('echoing', 6),\n",
       " ('memories', 6),\n",
       " ('whispers', 6),\n",
       " ('tales', 7),\n",
       " ('the', 49),\n",
       " ('slinked', 7),\n",
       " ('that', 7),\n",
       " ('unfold', 7),\n",
       " ('silence', 6),\n",
       " ('a', 12),\n",
       " ('nearby', 5),\n",
       " ('The', 12),\n",
       " ('Somewhere', 6),\n",
       " ('carrying', 7),\n",
       " ('gentle', 6),\n",
       " ('breeze', 6),\n",
       " ('Lanterns', 7),\n",
       " ('sounded', 6),\n",
       " ('through', 7),\n",
       " ('smelled', 6),\n",
       " ('In', 5),\n",
       " ('struck', 6),\n",
       " ('swirled', 5),\n",
       " ('night', 7),\n",
       " ('its', 7),\n",
       " ('Marie', 6),\n",
       " ('breaking', 7),\n",
       " ('in', 6),\n",
       " ('i', 6),\n",
       " ('along', 5),\n",
       " ('stood', 6),\n",
       " ('across', 7),\n",
       " ('cat', 4),\n",
       " ('leaves', 6),\n",
       " ('town', 5)]"
      ]
     },
     "execution_count": 8,
     "metadata": {},
     "output_type": "execute_result"
    }
   ],
   "source": [
    "counts.collect()"
   ]
  },
  {
   "cell_type": "code",
   "execution_count": 9,
   "id": "1e39d22c-f075-47c2-96ea-a0b39024c343",
   "metadata": {},
   "outputs": [],
   "source": [
    "counts.saveAsTextFile(\"outputfolder5\")"
   ]
  }
 ],
 "metadata": {
  "kernelspec": {
   "display_name": "Python 3 (ipykernel)",
   "language": "python",
   "name": "python3"
  },
  "language_info": {
   "codemirror_mode": {
    "name": "ipython",
    "version": 3
   },
   "file_extension": ".py",
   "mimetype": "text/x-python",
   "name": "python",
   "nbconvert_exporter": "python",
   "pygments_lexer": "ipython3",
   "version": "3.11.8"
  }
 },
 "nbformat": 4,
 "nbformat_minor": 5
}
