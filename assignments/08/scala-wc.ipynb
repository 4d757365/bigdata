{
 "cells": [
  {
   "cell_type": "code",
   "execution_count": 6,
   "id": "c2cb3e6f-ddb1-47ff-b36b-71e31c7c366f",
   "metadata": {},
   "outputs": [
    {
     "data": {
      "text/plain": [
       "textFile = inputfolder MapPartitionsRDD[6] at textFile at <console>:24\n"
      ]
     },
     "metadata": {},
     "output_type": "display_data",
     "source": "user"
    },
    {
     "data": {
      "text/plain": [
       "inputfolder MapPartitionsRDD[6] at textFile at <console>:24"
      ]
     },
     "execution_count": 6,
     "metadata": {},
     "output_type": "execute_result"
    }
   ],
   "source": [
    "val textFile = sc.textFile(\"inputfolder\")"
   ]
  },
  {
   "cell_type": "code",
   "execution_count": 7,
   "id": "6827331d-7d2e-41b3-a610-5c0cabc8fac8",
   "metadata": {},
   "outputs": [
    {
     "data": {
      "text/plain": [
       "flatmap = MapPartitionsRDD[7] at flatMap at <console>:24\n"
      ]
     },
     "metadata": {},
     "output_type": "display_data",
     "source": "user"
    },
    {
     "data": {
      "text/plain": [
       "MapPartitionsRDD[7] at flatMap at <console>:24"
      ]
     },
     "execution_count": 7,
     "metadata": {},
     "output_type": "execute_result"
    }
   ],
   "source": [
    "val flatmap = textFile.flatMap(line => line.split(\" \"))"
   ]
  },
  {
   "cell_type": "code",
   "execution_count": 8,
   "id": "63f077e9-5eb7-4879-8242-e44f00066c16",
   "metadata": {},
   "outputs": [
    {
     "data": {
      "text/plain": [
       "mapped = MapPartitionsRDD[8] at map at <console>:24\n"
      ]
     },
     "metadata": {},
     "output_type": "display_data",
     "source": "user"
    },
    {
     "data": {
      "text/plain": [
       "MapPartitionsRDD[8] at map at <console>:24"
      ]
     },
     "execution_count": 8,
     "metadata": {},
     "output_type": "execute_result"
    }
   ],
   "source": [
    "val mapped = flatmap.map(word => (word, 1))"
   ]
  },
  {
   "cell_type": "code",
   "execution_count": 9,
   "id": "d50c4c7c-5e3b-41d2-a98a-8ca31feb7c42",
   "metadata": {},
   "outputs": [
    {
     "data": {
      "text/plain": [
       "counts = ShuffledRDD[9] at reduceByKey at <console>:24\n"
      ]
     },
     "metadata": {},
     "output_type": "display_data",
     "source": "user"
    },
    {
     "data": {
      "text/plain": [
       "ShuffledRDD[9] at reduceByKey at <console>:24"
      ]
     },
     "execution_count": 9,
     "metadata": {},
     "output_type": "execute_result"
    }
   ],
   "source": [
    "var counts = mapped.reduceByKey(_+_)"
   ]
  },
  {
   "cell_type": "code",
   "execution_count": 10,
   "id": "87408c67-803f-41cc-a149-b0c108a59e86",
   "metadata": {},
   "outputs": [
    {
     "name": "stdout",
     "output_type": "stream",
     "text": [
      "(whistle,7)\n",
      "(long,7)\n",
      "(its,7)\n",
      "(train,7)\n",
      "(rain,7)\n",
      "(town,5)\n",
      "(forgotten,6)\n",
      "(night,7)\n",
      "(air,4)\n",
      "(unfold,7)\n",
      "(struck,6)\n",
      "(midnight,5)\n",
      "(window,7)\n",
      "(sounded,6)\n",
      "(dim,5)\n",
      "(glinting,4)\n",
      "(eyes,6)\n",
      "(dog,7)\n",
      "(smelled,6)\n",
      "(leaves,6)\n",
      "(streets,6)\n",
      "(slinked,7)\n",
      "(light,6)\n",
      "(swirled,5)\n",
      "(Marie,6)\n",
      "(clock,6)\n",
      "(road,6)\n",
      "(cat,4)\n",
      "(Leaves,6)\n",
      "(breaking,7)\n",
      "(stood,6)\n",
      "(tales,7)\n",
      "(The,12)\n",
      "(gentle,6)\n",
      "(that,7)\n",
      "(a,12)\n",
      "(old,10)\n",
      "(Somewhere,6)\n",
      "(i,6)\n",
      "(across,7)\n",
      "(breeze,6)\n",
      "(memories,6)\n",
      "(through,7)\n",
      "(A,13)\n",
      "(barked,6)\n",
      "(in,6)\n",
      "(cobblestones,6)\n",
      "(carrying,7)\n",
      "(of,13)\n",
      "(silence,6)\n",
      "(whispers,6)\n",
      "(In,5)\n",
      "(watching,7)\n",
      "(by,5)\n",
      "(lonely,6)\n",
      "(nearby,5)\n",
      "(along,5)\n",
      "(casting,7)\n",
      "(Lanterns,7)\n",
      "(rustled,7)\n",
      "(distance,7)\n",
      "(empty,6)\n",
      "(and,11)\n",
      "(flickered,7)\n",
      "(shadows,7)\n",
      "(danced,5)\n",
      "(echoing,6)\n",
      "(her,7)\n",
      "(the,49)\n"
     ]
    }
   ],
   "source": [
    "counts.collect().foreach(println)"
   ]
  },
  {
   "cell_type": "code",
   "execution_count": 11,
   "id": "789c3e30-8537-46ee-bd1e-8431ee88f54f",
   "metadata": {},
   "outputs": [],
   "source": [
    "counts.saveAsTextFile(\"outputfolder3\")"
   ]
  }
 ],
 "metadata": {
  "kernelspec": {
   "display_name": "Apache Toree - Scala",
   "language": "scala",
   "name": "apache_toree_scala"
  },
  "language_info": {
   "codemirror_mode": "text/x-scala",
   "file_extension": ".scala",
   "mimetype": "text/x-scala",
   "name": "scala",
   "pygments_lexer": "scala",
   "version": "2.12.15"
  }
 },
 "nbformat": 4,
 "nbformat_minor": 5
}
